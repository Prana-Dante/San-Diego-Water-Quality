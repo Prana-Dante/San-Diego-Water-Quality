{
 "cells": [
  {
   "cell_type": "markdown",
   "metadata": {},
   "source": [
    "# Data and Setup San Diego Water Quality 2011-2019\n"
   ]
  },
  {
   "cell_type": "code",
   "execution_count": 1,
   "metadata": {},
   "outputs": [
    {
     "data": {
      "text/html": [
       "        <script type=\"text/javascript\">\n",
       "        window.PlotlyConfig = {MathJaxConfig: 'local'};\n",
       "        if (window.MathJax) {MathJax.Hub.Config({SVG: {font: \"STIX-Web\"}});}\n",
       "        if (typeof require !== 'undefined') {\n",
       "        require.undef(\"plotly\");\n",
       "        requirejs.config({\n",
       "            paths: {\n",
       "                'plotly': ['https://cdn.plot.ly/plotly-latest.min']\n",
       "            }\n",
       "        });\n",
       "        require(['plotly'], function(Plotly) {\n",
       "            window._Plotly = Plotly;\n",
       "        });\n",
       "        }\n",
       "        </script>\n",
       "        "
      ]
     },
     "metadata": {},
     "output_type": "display_data"
    },
    {
     "data": {
      "text/html": [
       "        <script type=\"text/javascript\">\n",
       "        window.PlotlyConfig = {MathJaxConfig: 'local'};\n",
       "        if (window.MathJax) {MathJax.Hub.Config({SVG: {font: \"STIX-Web\"}});}\n",
       "        if (typeof require !== 'undefined') {\n",
       "        require.undef(\"plotly\");\n",
       "        requirejs.config({\n",
       "            paths: {\n",
       "                'plotly': ['https://cdn.plot.ly/plotly-latest.min']\n",
       "            }\n",
       "        });\n",
       "        require(['plotly'], function(Plotly) {\n",
       "            window._Plotly = Plotly;\n",
       "        });\n",
       "        }\n",
       "        </script>\n",
       "        "
      ]
     },
     "metadata": {},
     "output_type": "display_data"
    }
   ],
   "source": [
    "import pandas as pd\n",
    "import numpy as np\n",
    "import matplotlib.pyplot as plt\n",
    "import seaborn as sns\n",
    "%matplotlib inline\n",
    "\n",
    "\n",
    "\n",
    "from plotly import __version__\n",
    "import cufflinks as cf\n",
    "from plotly.offline import download_plotlyjs,init_notebook_mode,plot,iplot\n",
    "cf.go_offline() #allows cufflinks to work offline\n",
    "init_notebook_mode(connected=True) #connects notebook to something"
   ]
  },
  {
   "cell_type": "code",
   "execution_count": 2,
   "metadata": {},
   "outputs": [],
   "source": [
    "sd_wq = pd.read_csv('water_quality_2011_2019_datasd.csv')"
   ]
  },
  {
   "cell_type": "code",
   "execution_count": 23,
   "metadata": {},
   "outputs": [
    {
     "name": "stdout",
     "output_type": "stream",
     "text": [
      "<class 'pandas.core.frame.DataFrame'>\n",
      "RangeIndex: 338978 entries, 0 to 338977\n",
      "Data columns (total 13 columns):\n",
      " #   Column       Non-Null Count   Dtype         \n",
      "---  ------       --------------   -----         \n",
      " 0   sample       338978 non-null  int64         \n",
      " 1   station      338978 non-null  object        \n",
      " 2   depth_m      309084 non-null  float64       \n",
      " 3   date_sample  338978 non-null  datetime64[ns]\n",
      " 4   time         323266 non-null  object        \n",
      " 5   project      338978 non-null  object        \n",
      " 6   parameter    338978 non-null  object        \n",
      " 7   qualifier    107545 non-null  object        \n",
      " 8   value        338308 non-null  float64       \n",
      " 9   units        338978 non-null  object        \n",
      " 10  year         338978 non-null  int64         \n",
      " 11  month        338978 non-null  int64         \n",
      " 12  date         338978 non-null  object        \n",
      "dtypes: datetime64[ns](1), float64(2), int64(3), object(7)\n",
      "memory usage: 33.6+ MB\n"
     ]
    }
   ],
   "source": [
    "sd_wq.info() #338978 entries"
   ]
  },
  {
   "cell_type": "markdown",
   "metadata": {},
   "source": [
    "We can see that there are 338,978 rows, and 13 columns, have to be careful about graphs, large dataset"
   ]
  },
  {
   "cell_type": "code",
   "execution_count": 3,
   "metadata": {},
   "outputs": [
    {
     "data": {
      "text/html": [
       "<div>\n",
       "<style scoped>\n",
       "    .dataframe tbody tr th:only-of-type {\n",
       "        vertical-align: middle;\n",
       "    }\n",
       "\n",
       "    .dataframe tbody tr th {\n",
       "        vertical-align: top;\n",
       "    }\n",
       "\n",
       "    .dataframe thead th {\n",
       "        text-align: right;\n",
       "    }\n",
       "</style>\n",
       "<table border=\"1\" class=\"dataframe\">\n",
       "  <thead>\n",
       "    <tr style=\"text-align: right;\">\n",
       "      <th></th>\n",
       "      <th>sample</th>\n",
       "      <th>station</th>\n",
       "      <th>depth_m</th>\n",
       "      <th>date_sample</th>\n",
       "      <th>time</th>\n",
       "      <th>project</th>\n",
       "      <th>parameter</th>\n",
       "      <th>qualifier</th>\n",
       "      <th>value</th>\n",
       "      <th>units</th>\n",
       "    </tr>\n",
       "  </thead>\n",
       "  <tbody>\n",
       "    <tr>\n",
       "      <th>0</th>\n",
       "      <td>101111769</td>\n",
       "      <td>I25</td>\n",
       "      <td>2.0</td>\n",
       "      <td>2011-01-01</td>\n",
       "      <td>11:54:00 PST</td>\n",
       "      <td>SBOO</td>\n",
       "      <td>ENTERO</td>\n",
       "      <td>e</td>\n",
       "      <td>24.0</td>\n",
       "      <td>CFU/100 mL</td>\n",
       "    </tr>\n",
       "    <tr>\n",
       "      <th>1</th>\n",
       "      <td>101111770</td>\n",
       "      <td>I25</td>\n",
       "      <td>6.0</td>\n",
       "      <td>2011-01-01</td>\n",
       "      <td>11:54:00 PST</td>\n",
       "      <td>SBOO</td>\n",
       "      <td>ENTERO</td>\n",
       "      <td>NaN</td>\n",
       "      <td>110.0</td>\n",
       "      <td>CFU/100 mL</td>\n",
       "    </tr>\n",
       "    <tr>\n",
       "      <th>2</th>\n",
       "      <td>101111771</td>\n",
       "      <td>I25</td>\n",
       "      <td>9.0</td>\n",
       "      <td>2011-01-01</td>\n",
       "      <td>11:54:00 PST</td>\n",
       "      <td>SBOO</td>\n",
       "      <td>ENTERO</td>\n",
       "      <td>NaN</td>\n",
       "      <td>100.0</td>\n",
       "      <td>CFU/100 mL</td>\n",
       "    </tr>\n",
       "    <tr>\n",
       "      <th>3</th>\n",
       "      <td>101111772</td>\n",
       "      <td>I26</td>\n",
       "      <td>6.0</td>\n",
       "      <td>2011-01-01</td>\n",
       "      <td>12:04:00 PST</td>\n",
       "      <td>SBOO</td>\n",
       "      <td>ENTERO</td>\n",
       "      <td>NaN</td>\n",
       "      <td>94.0</td>\n",
       "      <td>CFU/100 mL</td>\n",
       "    </tr>\n",
       "    <tr>\n",
       "      <th>4</th>\n",
       "      <td>101111773</td>\n",
       "      <td>I26</td>\n",
       "      <td>9.0</td>\n",
       "      <td>2011-01-01</td>\n",
       "      <td>12:04:00 PST</td>\n",
       "      <td>SBOO</td>\n",
       "      <td>ENTERO</td>\n",
       "      <td>NaN</td>\n",
       "      <td>400.0</td>\n",
       "      <td>CFU/100 mL</td>\n",
       "    </tr>\n",
       "  </tbody>\n",
       "</table>\n",
       "</div>"
      ],
      "text/plain": [
       "      sample station  depth_m date_sample          time project parameter  \\\n",
       "0  101111769     I25      2.0  2011-01-01  11:54:00 PST    SBOO    ENTERO   \n",
       "1  101111770     I25      6.0  2011-01-01  11:54:00 PST    SBOO    ENTERO   \n",
       "2  101111771     I25      9.0  2011-01-01  11:54:00 PST    SBOO    ENTERO   \n",
       "3  101111772     I26      6.0  2011-01-01  12:04:00 PST    SBOO    ENTERO   \n",
       "4  101111773     I26      9.0  2011-01-01  12:04:00 PST    SBOO    ENTERO   \n",
       "\n",
       "  qualifier  value       units  \n",
       "0         e   24.0  CFU/100 mL  \n",
       "1       NaN  110.0  CFU/100 mL  \n",
       "2       NaN  100.0  CFU/100 mL  \n",
       "3       NaN   94.0  CFU/100 mL  \n",
       "4       NaN  400.0  CFU/100 mL  "
      ]
     },
     "execution_count": 3,
     "metadata": {},
     "output_type": "execute_result"
    }
   ],
   "source": [
    "sd_wq.head()"
   ]
  },
  {
   "cell_type": "markdown",
   "metadata": {},
   "source": [
    "# Basic Questions"
   ]
  },
  {
   "cell_type": "code",
   "execution_count": 50,
   "metadata": {},
   "outputs": [
    {
     "name": "stdout",
     "output_type": "stream",
     "text": [
      "There are 12 parameters which are ['ENTERO' 'FECAL' 'TOTAL' 'CHLOROPHYLL' 'DENSITY' 'DO' 'PH' 'SALINITY'\n",
      " 'TEMP' 'XMS' 'OG' 'SUSO']\n",
      "There are 105 stations\n",
      "There are 16 different depths measured at\n",
      "There are 1700 sample dates\n",
      "There are 2 projects which are ['SBOO' 'PLOO']\n"
     ]
    }
   ],
   "source": [
    "print('There are {} parameters which are {}'.format(sd_wq['parameter'].nunique(),sd_wq['parameter'].unique()))\n",
    "print('There are {} stations'.format(sd_wq['station'].nunique()))\n",
    "print('There are {} different depths measured at'.format(sd_wq['depth_m'].nunique()))\n",
    "print('There are {} sample dates'.format(sd_wq['date_sample'].nunique()))\n",
    "print('There are {} projects which are {}'.format(sd_wq['project'].nunique(),sd_wq['project'].unique()))"
   ]
  },
  {
   "cell_type": "markdown",
   "metadata": {},
   "source": [
    "There are 12 different parameters that are measured, 105 different stations, 16 depths and 1700 dates sampled"
   ]
  },
  {
   "cell_type": "code",
   "execution_count": 38,
   "metadata": {},
   "outputs": [
    {
     "name": "stdout",
     "output_type": "stream",
     "text": [
      "The largest water quality reading was found \n",
      "sample                  1506161862\n",
      "station                         S0\n",
      "depth_m                        NaN\n",
      "date_sample    2015-06-16 00:00:00\n",
      "time                  11:10:00 PST\n",
      "project                       SBOO\n",
      "parameter                    TOTAL\n",
      "qualifier                        e\n",
      "value                       180000\n",
      "units                   CFU/100 mL\n",
      "year                          2015\n",
      "month                            6\n",
      "date                    2015-06-16\n",
      "Name: 173899, dtype: object\n"
     ]
    }
   ],
   "source": [
    "print('The largest water quality reading was found at \\n{}'.format(\n",
    "    sd_wq.iloc[sd_wq['value'].argmax()]))"
   ]
  },
  {
   "cell_type": "code",
   "execution_count": 49,
   "metadata": {},
   "outputs": [
    {
     "name": "stdout",
     "output_type": "stream",
     "text": [
      "The highest temperature reading was found at \n",
      "sample                  1808065363\n",
      "station                         A6\n",
      "depth_m                          1\n",
      "date_sample    2018-08-06 00:00:00\n",
      "time                   8:09:00 PST\n",
      "project                       PLOO\n",
      "parameter                     TEMP\n",
      "qualifier                      NaN\n",
      "value                        25.54\n",
      "units                            C\n",
      "year                          2018\n",
      "month                            8\n",
      "date                    2018-08-06\n",
      "Name: 289313, dtype: object\n"
     ]
    }
   ],
   "source": [
    "print('The highest temperature reading was found at \\n{}'.format\n",
    "      (sd_wq[sd_wq['parameter']=='TEMP'].iloc[\n",
    "        sd_wq[sd_wq['parameter']=='TEMP']['value'].argmax()]\n",
    "      )\n",
    "     )"
   ]
  },
  {
   "cell_type": "markdown",
   "metadata": {},
   "source": [
    "# Creating new features"
   ]
  },
  {
   "cell_type": "code",
   "execution_count": 51,
   "metadata": {},
   "outputs": [],
   "source": [
    "sd_wq['date_sample']=pd.to_datetime(sd_wq['date_sample'])"
   ]
  },
  {
   "cell_type": "markdown",
   "metadata": {},
   "source": [
    "Creating new columns with year month and date"
   ]
  },
  {
   "cell_type": "code",
   "execution_count": 63,
   "metadata": {},
   "outputs": [],
   "source": [
    "sd_wq['year'] = sd_wq['date_sample'].apply(lambda x:x.year)\n",
    "sd_wq['month'] = sd_wq['date_sample'].apply(lambda x:x.month)\n",
    "sd_wq['date'] = sd_wq['date_sample'].apply(lambda x:x.date())"
   ]
  },
  {
   "cell_type": "code",
   "execution_count": 64,
   "metadata": {},
   "outputs": [
    {
     "data": {
      "text/html": [
       "<div>\n",
       "<style scoped>\n",
       "    .dataframe tbody tr th:only-of-type {\n",
       "        vertical-align: middle;\n",
       "    }\n",
       "\n",
       "    .dataframe tbody tr th {\n",
       "        vertical-align: top;\n",
       "    }\n",
       "\n",
       "    .dataframe thead th {\n",
       "        text-align: right;\n",
       "    }\n",
       "</style>\n",
       "<table border=\"1\" class=\"dataframe\">\n",
       "  <thead>\n",
       "    <tr style=\"text-align: right;\">\n",
       "      <th></th>\n",
       "      <th>sample</th>\n",
       "      <th>station</th>\n",
       "      <th>depth_m</th>\n",
       "      <th>date_sample</th>\n",
       "      <th>time</th>\n",
       "      <th>project</th>\n",
       "      <th>parameter</th>\n",
       "      <th>qualifier</th>\n",
       "      <th>value</th>\n",
       "      <th>units</th>\n",
       "      <th>year</th>\n",
       "      <th>month</th>\n",
       "      <th>date</th>\n",
       "    </tr>\n",
       "  </thead>\n",
       "  <tbody>\n",
       "    <tr>\n",
       "      <th>0</th>\n",
       "      <td>101111769</td>\n",
       "      <td>I25</td>\n",
       "      <td>2.0</td>\n",
       "      <td>2011-01-01</td>\n",
       "      <td>11:54:00 PST</td>\n",
       "      <td>SBOO</td>\n",
       "      <td>ENTERO</td>\n",
       "      <td>e</td>\n",
       "      <td>24.0</td>\n",
       "      <td>CFU/100 mL</td>\n",
       "      <td>2011</td>\n",
       "      <td>1</td>\n",
       "      <td>2011-01-01</td>\n",
       "    </tr>\n",
       "    <tr>\n",
       "      <th>1</th>\n",
       "      <td>101111770</td>\n",
       "      <td>I25</td>\n",
       "      <td>6.0</td>\n",
       "      <td>2011-01-01</td>\n",
       "      <td>11:54:00 PST</td>\n",
       "      <td>SBOO</td>\n",
       "      <td>ENTERO</td>\n",
       "      <td>NaN</td>\n",
       "      <td>110.0</td>\n",
       "      <td>CFU/100 mL</td>\n",
       "      <td>2011</td>\n",
       "      <td>1</td>\n",
       "      <td>2011-01-01</td>\n",
       "    </tr>\n",
       "    <tr>\n",
       "      <th>2</th>\n",
       "      <td>101111771</td>\n",
       "      <td>I25</td>\n",
       "      <td>9.0</td>\n",
       "      <td>2011-01-01</td>\n",
       "      <td>11:54:00 PST</td>\n",
       "      <td>SBOO</td>\n",
       "      <td>ENTERO</td>\n",
       "      <td>NaN</td>\n",
       "      <td>100.0</td>\n",
       "      <td>CFU/100 mL</td>\n",
       "      <td>2011</td>\n",
       "      <td>1</td>\n",
       "      <td>2011-01-01</td>\n",
       "    </tr>\n",
       "    <tr>\n",
       "      <th>3</th>\n",
       "      <td>101111772</td>\n",
       "      <td>I26</td>\n",
       "      <td>6.0</td>\n",
       "      <td>2011-01-01</td>\n",
       "      <td>12:04:00 PST</td>\n",
       "      <td>SBOO</td>\n",
       "      <td>ENTERO</td>\n",
       "      <td>NaN</td>\n",
       "      <td>94.0</td>\n",
       "      <td>CFU/100 mL</td>\n",
       "      <td>2011</td>\n",
       "      <td>1</td>\n",
       "      <td>2011-01-01</td>\n",
       "    </tr>\n",
       "    <tr>\n",
       "      <th>4</th>\n",
       "      <td>101111773</td>\n",
       "      <td>I26</td>\n",
       "      <td>9.0</td>\n",
       "      <td>2011-01-01</td>\n",
       "      <td>12:04:00 PST</td>\n",
       "      <td>SBOO</td>\n",
       "      <td>ENTERO</td>\n",
       "      <td>NaN</td>\n",
       "      <td>400.0</td>\n",
       "      <td>CFU/100 mL</td>\n",
       "      <td>2011</td>\n",
       "      <td>1</td>\n",
       "      <td>2011-01-01</td>\n",
       "    </tr>\n",
       "  </tbody>\n",
       "</table>\n",
       "</div>"
      ],
      "text/plain": [
       "      sample station  depth_m date_sample          time project parameter  \\\n",
       "0  101111769     I25      2.0  2011-01-01  11:54:00 PST    SBOO    ENTERO   \n",
       "1  101111770     I25      6.0  2011-01-01  11:54:00 PST    SBOO    ENTERO   \n",
       "2  101111771     I25      9.0  2011-01-01  11:54:00 PST    SBOO    ENTERO   \n",
       "3  101111772     I26      6.0  2011-01-01  12:04:00 PST    SBOO    ENTERO   \n",
       "4  101111773     I26      9.0  2011-01-01  12:04:00 PST    SBOO    ENTERO   \n",
       "\n",
       "  qualifier  value       units  year  month        date  \n",
       "0         e   24.0  CFU/100 mL  2011      1  2011-01-01  \n",
       "1       NaN  110.0  CFU/100 mL  2011      1  2011-01-01  \n",
       "2       NaN  100.0  CFU/100 mL  2011      1  2011-01-01  \n",
       "3       NaN   94.0  CFU/100 mL  2011      1  2011-01-01  \n",
       "4       NaN  400.0  CFU/100 mL  2011      1  2011-01-01  "
      ]
     },
     "execution_count": 64,
     "metadata": {},
     "output_type": "execute_result"
    }
   ],
   "source": [
    "sd_wq.head()"
   ]
  },
  {
   "cell_type": "code",
   "execution_count": 70,
   "metadata": {},
   "outputs": [
    {
     "data": {
      "image/png": "[encoded data removed]",
      "text/plain": [
       "<Figure size 864x432 with 1 Axes>"
      ]
     },
     "metadata": {},
     "output_type": "display_data"
    }
   ],
   "source": [
    "plt.figure(figsize = (12,6))\n",
    "sns.set_style(\"darkgrid\")\n",
    "sns.countplot(x='parameter',data=sd_wq,palette = 'deep')\n",
    "plt.title('Number of parameter tests from 2011 to 2019 in San Diego')\n",
    "plt.tight_layout()"
   ]
  },
  {
   "cell_type": "code",
   "execution_count": 62,
   "metadata": {},
   "outputs": [
    {
     "name": "stdout",
     "output_type": "stream",
     "text": [
      "<class 'pandas.core.frame.DataFrame'>\n",
      "RangeIndex: 338978 entries, 0 to 338977\n",
      "Data columns (total 13 columns):\n",
      " #   Column       Non-Null Count   Dtype         \n",
      "---  ------       --------------   -----         \n",
      " 0   sample       338978 non-null  int64         \n",
      " 1   station      338978 non-null  object        \n",
      " 2   depth_m      309084 non-null  float64       \n",
      " 3   date_sample  338978 non-null  datetime64[ns]\n",
      " 4   time         323266 non-null  object        \n",
      " 5   project      338978 non-null  object        \n",
      " 6   parameter    338978 non-null  object        \n",
      " 7   qualifier    107545 non-null  object        \n",
      " 8   value        338308 non-null  float64       \n",
      " 9   units        338978 non-null  object        \n",
      " 10  year         338978 non-null  int64         \n",
      " 11  month        338978 non-null  int64         \n",
      " 12  date         338978 non-null  object        \n",
      "dtypes: datetime64[ns](1), float64(2), int64(3), object(7)\n",
      "memory usage: 33.6+ MB\n"
     ]
    }
   ],
   "source": [
    "sd_wq.info() #Want to see what type our dates are (year, month, date) - We want datetime objects"
   ]
  },
  {
   "cell_type": "code",
   "execution_count": 22,
   "metadata": {},
   "outputs": [
    {
     "data": {
      "image/png": "[encoded data removed]",
      "text/plain": [
       "<Figure size 432x288 with 1 Axes>"
      ]
     },
     "metadata": {
      "needs_background": "light"
     },
     "output_type": "display_data"
    }
   ],
   "source": [
    "sd_wq[sd_wq['parameter']=='TEMP'].groupby('date').sum()['value'].plot()\n",
    "plt.tight_layout()"
   ]
  },
  {
   "cell_type": "code",
   "execution_count": 92,
   "metadata": {},
   "outputs": [
    {
     "data": {
      "text/html": [
       "<div>\n",
       "<style scoped>\n",
       "    .dataframe tbody tr th:only-of-type {\n",
       "        vertical-align: middle;\n",
       "    }\n",
       "\n",
       "    .dataframe tbody tr th {\n",
       "        vertical-align: top;\n",
       "    }\n",
       "\n",
       "    .dataframe thead th {\n",
       "        text-align: right;\n",
       "    }\n",
       "</style>\n",
       "<table border=\"1\" class=\"dataframe\">\n",
       "  <thead>\n",
       "    <tr style=\"text-align: right;\">\n",
       "      <th></th>\n",
       "      <th>sample</th>\n",
       "      <th>depth_m</th>\n",
       "      <th>value</th>\n",
       "      <th>year</th>\n",
       "      <th>month</th>\n",
       "    </tr>\n",
       "    <tr>\n",
       "      <th>parameter</th>\n",
       "      <th></th>\n",
       "      <th></th>\n",
       "      <th></th>\n",
       "      <th></th>\n",
       "      <th></th>\n",
       "    </tr>\n",
       "  </thead>\n",
       "  <tbody>\n",
       "    <tr>\n",
       "      <th>CHLOROPHYLL</th>\n",
       "      <td>1.421044e+09</td>\n",
       "      <td>14.197681</td>\n",
       "      <td>2.769010</td>\n",
       "      <td>2014.867095</td>\n",
       "      <td>6.503040</td>\n",
       "    </tr>\n",
       "    <tr>\n",
       "      <th>DENSITY</th>\n",
       "      <td>1.421044e+09</td>\n",
       "      <td>14.197681</td>\n",
       "      <td>24.712218</td>\n",
       "      <td>2014.867095</td>\n",
       "      <td>6.503040</td>\n",
       "    </tr>\n",
       "    <tr>\n",
       "      <th>DO</th>\n",
       "      <td>1.421044e+09</td>\n",
       "      <td>14.197681</td>\n",
       "      <td>7.227980</td>\n",
       "      <td>2014.867095</td>\n",
       "      <td>6.503040</td>\n",
       "    </tr>\n",
       "    <tr>\n",
       "      <th>ENTERO</th>\n",
       "      <td>1.423312e+09</td>\n",
       "      <td>14.080214</td>\n",
       "      <td>85.635709</td>\n",
       "      <td>2014.963605</td>\n",
       "      <td>6.483467</td>\n",
       "    </tr>\n",
       "    <tr>\n",
       "      <th>FECAL</th>\n",
       "      <td>1.421690e+09</td>\n",
       "      <td>8.552792</td>\n",
       "      <td>105.061069</td>\n",
       "      <td>2014.952279</td>\n",
       "      <td>6.482339</td>\n",
       "    </tr>\n",
       "    <tr>\n",
       "      <th>OG</th>\n",
       "      <td>1.157372e+09</td>\n",
       "      <td>2.000000</td>\n",
       "      <td>0.372596</td>\n",
       "      <td>2013.091892</td>\n",
       "      <td>6.500000</td>\n",
       "    </tr>\n",
       "    <tr>\n",
       "      <th>PH</th>\n",
       "      <td>1.421044e+09</td>\n",
       "      <td>14.197681</td>\n",
       "      <td>8.093799</td>\n",
       "      <td>2014.867095</td>\n",
       "      <td>6.503040</td>\n",
       "    </tr>\n",
       "    <tr>\n",
       "      <th>SALINITY</th>\n",
       "      <td>1.421044e+09</td>\n",
       "      <td>14.197681</td>\n",
       "      <td>33.496282</td>\n",
       "      <td>2014.867095</td>\n",
       "      <td>6.503040</td>\n",
       "    </tr>\n",
       "    <tr>\n",
       "      <th>SUSO</th>\n",
       "      <td>1.153459e+09</td>\n",
       "      <td>11.323255</td>\n",
       "      <td>3.802852</td>\n",
       "      <td>2013.064195</td>\n",
       "      <td>6.468627</td>\n",
       "    </tr>\n",
       "    <tr>\n",
       "      <th>TEMP</th>\n",
       "      <td>1.421044e+09</td>\n",
       "      <td>14.197681</td>\n",
       "      <td>15.281536</td>\n",
       "      <td>2014.867095</td>\n",
       "      <td>6.503040</td>\n",
       "    </tr>\n",
       "    <tr>\n",
       "      <th>TOTAL</th>\n",
       "      <td>1.421554e+09</td>\n",
       "      <td>8.553618</td>\n",
       "      <td>393.986735</td>\n",
       "      <td>2014.951568</td>\n",
       "      <td>6.482245</td>\n",
       "    </tr>\n",
       "    <tr>\n",
       "      <th>XMS</th>\n",
       "      <td>1.421044e+09</td>\n",
       "      <td>14.197681</td>\n",
       "      <td>79.010852</td>\n",
       "      <td>2014.867095</td>\n",
       "      <td>6.503040</td>\n",
       "    </tr>\n",
       "  </tbody>\n",
       "</table>\n",
       "</div>"
      ],
      "text/plain": [
       "                   sample    depth_m       value         year     month\n",
       "parameter                                                              \n",
       "CHLOROPHYLL  1.421044e+09  14.197681    2.769010  2014.867095  6.503040\n",
       "DENSITY      1.421044e+09  14.197681   24.712218  2014.867095  6.503040\n",
       "DO           1.421044e+09  14.197681    7.227980  2014.867095  6.503040\n",
       "ENTERO       1.423312e+09  14.080214   85.635709  2014.963605  6.483467\n",
       "FECAL        1.421690e+09   8.552792  105.061069  2014.952279  6.482339\n",
       "OG           1.157372e+09   2.000000    0.372596  2013.091892  6.500000\n",
       "PH           1.421044e+09  14.197681    8.093799  2014.867095  6.503040\n",
       "SALINITY     1.421044e+09  14.197681   33.496282  2014.867095  6.503040\n",
       "SUSO         1.153459e+09  11.323255    3.802852  2013.064195  6.468627\n",
       "TEMP         1.421044e+09  14.197681   15.281536  2014.867095  6.503040\n",
       "TOTAL        1.421554e+09   8.553618  393.986735  2014.951568  6.482245\n",
       "XMS          1.421044e+09  14.197681   79.010852  2014.867095  6.503040"
      ]
     },
     "execution_count": 92,
     "metadata": {},
     "output_type": "execute_result"
    }
   ],
   "source": [
    "sd_wq.groupby('parameter').mean()"
   ]
  },
  {
   "cell_type": "code",
   "execution_count": 82,
   "metadata": {},
   "outputs": [
    {
     "data": {
      "text/plain": [
       "<matplotlib.legend.Legend at 0x1198f0353d0>"
      ]
     },
     "execution_count": 82,
     "metadata": {},
     "output_type": "execute_result"
    },
    {
     "data": {
      "image/png": "[encoded data removed]",
      "text/plain": [
       "<Figure size 432x288 with 1 Axes>"
      ]
     },
     "metadata": {
      "needs_background": "light"
     },
     "output_type": "display_data"
    }
   ],
   "source": [
    "sns.boxplot(x='month',y='value',data=sd_wq,hue='parameter',palette='viridis')\n",
    "plt.legend(bbox_to_anchor=(1.05, 1), loc=2, borderaxespad=0.)"
   ]
  },
  {
   "cell_type": "code",
   "execution_count": 72,
   "metadata": {},
   "outputs": [
    {
     "name": "stdout",
     "output_type": "stream",
     "text": [
      "<class 'pandas.core.frame.DataFrame'>\n",
      "RangeIndex: 338978 entries, 0 to 338977\n",
      "Data columns (total 12 columns):\n",
      " #   Column       Non-Null Count   Dtype         \n",
      "---  ------       --------------   -----         \n",
      " 0   sample       338978 non-null  int64         \n",
      " 1   station      338978 non-null  object        \n",
      " 2   depth_m      309084 non-null  float64       \n",
      " 3   date_sample  338978 non-null  datetime64[ns]\n",
      " 4   time         323266 non-null  object        \n",
      " 5   project      338978 non-null  object        \n",
      " 6   parameter    338978 non-null  object        \n",
      " 7   qualifier    107545 non-null  object        \n",
      " 8   value        338308 non-null  float64       \n",
      " 9   units        338978 non-null  object        \n",
      " 10  year         338978 non-null  int64         \n",
      " 11  month        338978 non-null  int64         \n",
      "dtypes: datetime64[ns](1), float64(2), int64(3), object(6)\n",
      "memory usage: 31.0+ MB\n"
     ]
    },
    {
     "data": {
      "text/html": [
       "<div>\n",
       "<style scoped>\n",
       "    .dataframe tbody tr th:only-of-type {\n",
       "        vertical-align: middle;\n",
       "    }\n",
       "\n",
       "    .dataframe tbody tr th {\n",
       "        vertical-align: top;\n",
       "    }\n",
       "\n",
       "    .dataframe thead th {\n",
       "        text-align: right;\n",
       "    }\n",
       "</style>\n",
       "<table border=\"1\" class=\"dataframe\">\n",
       "  <thead>\n",
       "    <tr style=\"text-align: right;\">\n",
       "      <th></th>\n",
       "      <th>sample</th>\n",
       "      <th>station</th>\n",
       "      <th>depth_m</th>\n",
       "      <th>date_sample</th>\n",
       "      <th>time</th>\n",
       "      <th>project</th>\n",
       "      <th>parameter</th>\n",
       "      <th>qualifier</th>\n",
       "      <th>value</th>\n",
       "      <th>units</th>\n",
       "      <th>year</th>\n",
       "      <th>month</th>\n",
       "    </tr>\n",
       "  </thead>\n",
       "  <tbody>\n",
       "    <tr>\n",
       "      <th>0</th>\n",
       "      <td>101111769</td>\n",
       "      <td>I25</td>\n",
       "      <td>2.0</td>\n",
       "      <td>2011-01-01</td>\n",
       "      <td>11:54:00 PST</td>\n",
       "      <td>SBOO</td>\n",
       "      <td>ENTERO</td>\n",
       "      <td>e</td>\n",
       "      <td>24.0</td>\n",
       "      <td>CFU/100 mL</td>\n",
       "      <td>2011</td>\n",
       "      <td>1</td>\n",
       "    </tr>\n",
       "    <tr>\n",
       "      <th>1</th>\n",
       "      <td>101111770</td>\n",
       "      <td>I25</td>\n",
       "      <td>6.0</td>\n",
       "      <td>2011-01-01</td>\n",
       "      <td>11:54:00 PST</td>\n",
       "      <td>SBOO</td>\n",
       "      <td>ENTERO</td>\n",
       "      <td>NaN</td>\n",
       "      <td>110.0</td>\n",
       "      <td>CFU/100 mL</td>\n",
       "      <td>2011</td>\n",
       "      <td>1</td>\n",
       "    </tr>\n",
       "    <tr>\n",
       "      <th>2</th>\n",
       "      <td>101111771</td>\n",
       "      <td>I25</td>\n",
       "      <td>9.0</td>\n",
       "      <td>2011-01-01</td>\n",
       "      <td>11:54:00 PST</td>\n",
       "      <td>SBOO</td>\n",
       "      <td>ENTERO</td>\n",
       "      <td>NaN</td>\n",
       "      <td>100.0</td>\n",
       "      <td>CFU/100 mL</td>\n",
       "      <td>2011</td>\n",
       "      <td>1</td>\n",
       "    </tr>\n",
       "    <tr>\n",
       "      <th>3</th>\n",
       "      <td>101111772</td>\n",
       "      <td>I26</td>\n",
       "      <td>6.0</td>\n",
       "      <td>2011-01-01</td>\n",
       "      <td>12:04:00 PST</td>\n",
       "      <td>SBOO</td>\n",
       "      <td>ENTERO</td>\n",
       "      <td>NaN</td>\n",
       "      <td>94.0</td>\n",
       "      <td>CFU/100 mL</td>\n",
       "      <td>2011</td>\n",
       "      <td>1</td>\n",
       "    </tr>\n",
       "    <tr>\n",
       "      <th>4</th>\n",
       "      <td>101111773</td>\n",
       "      <td>I26</td>\n",
       "      <td>9.0</td>\n",
       "      <td>2011-01-01</td>\n",
       "      <td>12:04:00 PST</td>\n",
       "      <td>SBOO</td>\n",
       "      <td>ENTERO</td>\n",
       "      <td>NaN</td>\n",
       "      <td>400.0</td>\n",
       "      <td>CFU/100 mL</td>\n",
       "      <td>2011</td>\n",
       "      <td>1</td>\n",
       "    </tr>\n",
       "  </tbody>\n",
       "</table>\n",
       "</div>"
      ],
      "text/plain": [
       "      sample station  depth_m date_sample          time project parameter  \\\n",
       "0  101111769     I25      2.0  2011-01-01  11:54:00 PST    SBOO    ENTERO   \n",
       "1  101111770     I25      6.0  2011-01-01  11:54:00 PST    SBOO    ENTERO   \n",
       "2  101111771     I25      9.0  2011-01-01  11:54:00 PST    SBOO    ENTERO   \n",
       "3  101111772     I26      6.0  2011-01-01  12:04:00 PST    SBOO    ENTERO   \n",
       "4  101111773     I26      9.0  2011-01-01  12:04:00 PST    SBOO    ENTERO   \n",
       "\n",
       "  qualifier  value       units  year  month  \n",
       "0         e   24.0  CFU/100 mL  2011      1  \n",
       "1       NaN  110.0  CFU/100 mL  2011      1  \n",
       "2       NaN  100.0  CFU/100 mL  2011      1  \n",
       "3       NaN   94.0  CFU/100 mL  2011      1  \n",
       "4       NaN  400.0  CFU/100 mL  2011      1  "
      ]
     },
     "execution_count": 72,
     "metadata": {},
     "output_type": "execute_result"
    }
   ],
   "source": [
    "sd_wq.info()\n",
    "sd_wq.head()"
   ]
  },
  {
   "cell_type": "code",
   "execution_count": 66,
   "metadata": {},
   "outputs": [
    {
     "data": {
      "text/html": [
       "<div>\n",
       "<style scoped>\n",
       "    .dataframe tbody tr th:only-of-type {\n",
       "        vertical-align: middle;\n",
       "    }\n",
       "\n",
       "    .dataframe tbody tr th {\n",
       "        vertical-align: top;\n",
       "    }\n",
       "\n",
       "    .dataframe thead th {\n",
       "        text-align: right;\n",
       "    }\n",
       "</style>\n",
       "<table border=\"1\" class=\"dataframe\">\n",
       "  <thead>\n",
       "    <tr style=\"text-align: right;\">\n",
       "      <th></th>\n",
       "      <th>count</th>\n",
       "      <th>mean</th>\n",
       "      <th>std</th>\n",
       "      <th>min</th>\n",
       "      <th>25%</th>\n",
       "      <th>50%</th>\n",
       "      <th>75%</th>\n",
       "      <th>max</th>\n",
       "    </tr>\n",
       "    <tr>\n",
       "      <th>parameter</th>\n",
       "      <th></th>\n",
       "      <th></th>\n",
       "      <th></th>\n",
       "      <th></th>\n",
       "      <th></th>\n",
       "      <th></th>\n",
       "      <th></th>\n",
       "      <th></th>\n",
       "    </tr>\n",
       "  </thead>\n",
       "  <tbody>\n",
       "    <tr>\n",
       "      <th>CHLOROPHYLL</th>\n",
       "      <td>31884.0</td>\n",
       "      <td>2.769010</td>\n",
       "      <td>4.325919</td>\n",
       "      <td>0.000</td>\n",
       "      <td>0.8200</td>\n",
       "      <td>1.470</td>\n",
       "      <td>2.950</td>\n",
       "      <td>74.640</td>\n",
       "    </tr>\n",
       "    <tr>\n",
       "      <th>DENSITY</th>\n",
       "      <td>31895.0</td>\n",
       "      <td>24.712218</td>\n",
       "      <td>0.663629</td>\n",
       "      <td>22.328</td>\n",
       "      <td>24.3295</td>\n",
       "      <td>24.754</td>\n",
       "      <td>25.150</td>\n",
       "      <td>27.066</td>\n",
       "    </tr>\n",
       "    <tr>\n",
       "      <th>DO</th>\n",
       "      <td>31886.0</td>\n",
       "      <td>7.227980</td>\n",
       "      <td>1.457982</td>\n",
       "      <td>0.250</td>\n",
       "      <td>6.5100</td>\n",
       "      <td>7.570</td>\n",
       "      <td>8.140</td>\n",
       "      <td>14.470</td>\n",
       "    </tr>\n",
       "    <tr>\n",
       "      <th>ENTERO</th>\n",
       "      <td>39839.0</td>\n",
       "      <td>85.635709</td>\n",
       "      <td>851.322689</td>\n",
       "      <td>2.000</td>\n",
       "      <td>2.0000</td>\n",
       "      <td>2.000</td>\n",
       "      <td>2.000</td>\n",
       "      <td>29000.000</td>\n",
       "    </tr>\n",
       "    <tr>\n",
       "      <th>FECAL</th>\n",
       "      <td>34584.0</td>\n",
       "      <td>105.061069</td>\n",
       "      <td>924.945968</td>\n",
       "      <td>1.000</td>\n",
       "      <td>2.0000</td>\n",
       "      <td>2.000</td>\n",
       "      <td>2.000</td>\n",
       "      <td>15000.000</td>\n",
       "    </tr>\n",
       "    <tr>\n",
       "      <th>OG</th>\n",
       "      <td>1479.0</td>\n",
       "      <td>0.372596</td>\n",
       "      <td>0.924049</td>\n",
       "      <td>0.000</td>\n",
       "      <td>0.2000</td>\n",
       "      <td>0.200</td>\n",
       "      <td>0.200</td>\n",
       "      <td>22.600</td>\n",
       "    </tr>\n",
       "    <tr>\n",
       "      <th>PH</th>\n",
       "      <td>31792.0</td>\n",
       "      <td>8.093799</td>\n",
       "      <td>0.142881</td>\n",
       "      <td>7.550</td>\n",
       "      <td>8.0200</td>\n",
       "      <td>8.120</td>\n",
       "      <td>8.180</td>\n",
       "      <td>8.700</td>\n",
       "    </tr>\n",
       "    <tr>\n",
       "      <th>SALINITY</th>\n",
       "      <td>31810.0</td>\n",
       "      <td>33.496282</td>\n",
       "      <td>0.144502</td>\n",
       "      <td>32.095</td>\n",
       "      <td>33.3940</td>\n",
       "      <td>33.503</td>\n",
       "      <td>33.589</td>\n",
       "      <td>34.274</td>\n",
       "    </tr>\n",
       "    <tr>\n",
       "      <th>SUSO</th>\n",
       "      <td>4828.0</td>\n",
       "      <td>3.802852</td>\n",
       "      <td>3.406792</td>\n",
       "      <td>0.200</td>\n",
       "      <td>1.9800</td>\n",
       "      <td>3.240</td>\n",
       "      <td>4.900</td>\n",
       "      <td>49.000</td>\n",
       "    </tr>\n",
       "    <tr>\n",
       "      <th>TEMP</th>\n",
       "      <td>31910.0</td>\n",
       "      <td>15.281536</td>\n",
       "      <td>2.887053</td>\n",
       "      <td>9.470</td>\n",
       "      <td>13.2600</td>\n",
       "      <td>15.110</td>\n",
       "      <td>17.040</td>\n",
       "      <td>25.540</td>\n",
       "    </tr>\n",
       "    <tr>\n",
       "      <th>TOTAL</th>\n",
       "      <td>34528.0</td>\n",
       "      <td>393.986735</td>\n",
       "      <td>2314.206608</td>\n",
       "      <td>2.000</td>\n",
       "      <td>2.0000</td>\n",
       "      <td>2.000</td>\n",
       "      <td>20.000</td>\n",
       "      <td>180000.000</td>\n",
       "    </tr>\n",
       "    <tr>\n",
       "      <th>XMS</th>\n",
       "      <td>31873.0</td>\n",
       "      <td>79.010852</td>\n",
       "      <td>10.591660</td>\n",
       "      <td>1.670</td>\n",
       "      <td>75.2800</td>\n",
       "      <td>81.940</td>\n",
       "      <td>86.120</td>\n",
       "      <td>95.410</td>\n",
       "    </tr>\n",
       "  </tbody>\n",
       "</table>\n",
       "</div>"
      ],
      "text/plain": [
       "               count        mean          std     min      25%     50%  \\\n",
       "parameter                                                                \n",
       "CHLOROPHYLL  31884.0    2.769010     4.325919   0.000   0.8200   1.470   \n",
       "DENSITY      31895.0   24.712218     0.663629  22.328  24.3295  24.754   \n",
       "DO           31886.0    7.227980     1.457982   0.250   6.5100   7.570   \n",
       "ENTERO       39839.0   85.635709   851.322689   2.000   2.0000   2.000   \n",
       "FECAL        34584.0  105.061069   924.945968   1.000   2.0000   2.000   \n",
       "OG            1479.0    0.372596     0.924049   0.000   0.2000   0.200   \n",
       "PH           31792.0    8.093799     0.142881   7.550   8.0200   8.120   \n",
       "SALINITY     31810.0   33.496282     0.144502  32.095  33.3940  33.503   \n",
       "SUSO          4828.0    3.802852     3.406792   0.200   1.9800   3.240   \n",
       "TEMP         31910.0   15.281536     2.887053   9.470  13.2600  15.110   \n",
       "TOTAL        34528.0  393.986735  2314.206608   2.000   2.0000   2.000   \n",
       "XMS          31873.0   79.010852    10.591660   1.670  75.2800  81.940   \n",
       "\n",
       "                75%         max  \n",
       "parameter                        \n",
       "CHLOROPHYLL   2.950      74.640  \n",
       "DENSITY      25.150      27.066  \n",
       "DO            8.140      14.470  \n",
       "ENTERO        2.000   29000.000  \n",
       "FECAL         2.000   15000.000  \n",
       "OG            0.200      22.600  \n",
       "PH            8.180       8.700  \n",
       "SALINITY     33.589      34.274  \n",
       "SUSO          4.900      49.000  \n",
       "TEMP         17.040      25.540  \n",
       "TOTAL        20.000  180000.000  \n",
       "XMS          86.120      95.410  "
      ]
     },
     "execution_count": 66,
     "metadata": {},
     "output_type": "execute_result"
    }
   ],
   "source": [
    "sd_wq.groupby('parameter')['value'].describe()"
   ]
  },
  {
   "cell_type": "code",
   "execution_count": 103,
   "metadata": {},
   "outputs": [
    {
     "data": {
      "text/plain": [
       "<AxesSubplot:xlabel='year', ylabel='value'>"
      ]
     },
     "execution_count": 103,
     "metadata": {},
     "output_type": "execute_result"
    },
    {
     "data": {
      "image/png": "[encoded data removed]",
      "text/plain": [
       "<Figure size 432x288 with 1 Axes>"
      ]
     },
     "metadata": {
      "needs_background": "light"
     },
     "output_type": "display_data"
    }
   ],
   "source": [
    "sns.boxplot(x='year',y='value',data=sd_wq[sd_wq['parameter']=='TOTAL'])\n",
    "#plt.xlim(-100,100)"
   ]
  },
  {
   "cell_type": "code",
   "execution_count": 42,
   "metadata": {},
   "outputs": [
    {
     "name": "stdout",
     "output_type": "stream",
     "text": [
      "date_sample    2015-06-16\n",
      "station                S0\n",
      "Name: 173899, dtype: object\n"
     ]
    },
    {
     "data": {
      "text/plain": [
       "sample         1208135223\n",
       "station               I27\n",
       "depth_m                18\n",
       "date_sample    2012-08-13\n",
       "time                  NaN\n",
       "project              SBOO\n",
       "parameter              PH\n",
       "qualifier             NaN\n",
       "value                 8.7\n",
       "units                  pH\n",
       "Name: 67103, dtype: object"
      ]
     },
     "execution_count": 42,
     "metadata": {},
     "output_type": "execute_result"
    }
   ],
   "source": [
    "print(sd_wq.loc[                               #uSING .loc for location \n",
    "    sd_wq[sd_wq['parameter']=='TOTAL']['value'].idxmax()] # Location of highgest total FECAL +Coliform reading\n",
    "      [['date_sample','station']] #pulling date and station of that reading\n",
    "     ) \n",
    "\n",
    "sd_wq.loc[sd_wq[sd_wq['parameter']=='PH']['value'].idxmax()]"
   ]
  },
  {
   "cell_type": "code",
   "execution_count": 47,
   "metadata": {},
   "outputs": [
    {
     "ename": "KeyError",
     "evalue": "'values'",
     "output_type": "error",
     "traceback": [
      "\u001b[1;31m---------------------------------------------------------------------------\u001b[0m",
      "\u001b[1;31mKeyError\u001b[0m                                  Traceback (most recent call last)",
      "\u001b[1;32m~\\anaconda3\\lib\\site-packages\\pandas\\core\\indexes\\base.py\u001b[0m in \u001b[0;36mget_loc\u001b[1;34m(self, key, method, tolerance)\u001b[0m\n\u001b[0;32m   2894\u001b[0m             \u001b[1;32mtry\u001b[0m\u001b[1;33m:\u001b[0m\u001b[1;33m\u001b[0m\u001b[1;33m\u001b[0m\u001b[0m\n\u001b[1;32m-> 2895\u001b[1;33m                 \u001b[1;32mreturn\u001b[0m \u001b[0mself\u001b[0m\u001b[1;33m.\u001b[0m\u001b[0m_engine\u001b[0m\u001b[1;33m.\u001b[0m\u001b[0mget_loc\u001b[0m\u001b[1;33m(\u001b[0m\u001b[0mcasted_key\u001b[0m\u001b[1;33m)\u001b[0m\u001b[1;33m\u001b[0m\u001b[1;33m\u001b[0m\u001b[0m\n\u001b[0m\u001b[0;32m   2896\u001b[0m             \u001b[1;32mexcept\u001b[0m \u001b[0mKeyError\u001b[0m \u001b[1;32mas\u001b[0m \u001b[0merr\u001b[0m\u001b[1;33m:\u001b[0m\u001b[1;33m\u001b[0m\u001b[1;33m\u001b[0m\u001b[0m\n",
      "\u001b[1;32mpandas\\_libs\\index.pyx\u001b[0m in \u001b[0;36mpandas._libs.index.IndexEngine.get_loc\u001b[1;34m()\u001b[0m\n",
      "\u001b[1;32mpandas\\_libs\\index.pyx\u001b[0m in \u001b[0;36mpandas._libs.index.IndexEngine.get_loc\u001b[1;34m()\u001b[0m\n",
      "\u001b[1;32mpandas\\_libs\\hashtable_class_helper.pxi\u001b[0m in \u001b[0;36mpandas._libs.hashtable.PyObjectHashTable.get_item\u001b[1;34m()\u001b[0m\n",
      "\u001b[1;32mpandas\\_libs\\hashtable_class_helper.pxi\u001b[0m in \u001b[0;36mpandas._libs.hashtable.PyObjectHashTable.get_item\u001b[1;34m()\u001b[0m\n",
      "\u001b[1;31mKeyError\u001b[0m: 'values'",
      "\nThe above exception was the direct cause of the following exception:\n",
      "\u001b[1;31mKeyError\u001b[0m                                  Traceback (most recent call last)",
      "\u001b[1;32m<ipython-input-47-ee89a8f8139c>\u001b[0m in \u001b[0;36m<module>\u001b[1;34m\u001b[0m\n\u001b[1;32m----> 1\u001b[1;33m \u001b[0msd_wq\u001b[0m\u001b[1;33m.\u001b[0m\u001b[0miplot\u001b[0m\u001b[1;33m(\u001b[0m\u001b[0mkind\u001b[0m\u001b[1;33m=\u001b[0m\u001b[1;34m'scatter'\u001b[0m\u001b[1;33m,\u001b[0m\u001b[0mx\u001b[0m\u001b[1;33m=\u001b[0m\u001b[1;34m'date_sample'\u001b[0m\u001b[1;33m,\u001b[0m\u001b[0my\u001b[0m\u001b[1;33m=\u001b[0m\u001b[1;34m'values'\u001b[0m\u001b[1;33m,\u001b[0m\u001b[0mmode\u001b[0m \u001b[1;33m=\u001b[0m \u001b[1;34m'markers'\u001b[0m\u001b[1;33m)\u001b[0m\u001b[1;33m\u001b[0m\u001b[1;33m\u001b[0m\u001b[0m\n\u001b[0m",
      "\u001b[1;32m~\\anaconda3\\lib\\site-packages\\cufflinks\\plotlytools.py\u001b[0m in \u001b[0;36m_iplot\u001b[1;34m(self, kind, data, layout, filename, sharing, title, xTitle, yTitle, zTitle, theme, colors, colorscale, fill, width, dash, mode, interpolation, symbol, size, barmode, sortbars, bargap, bargroupgap, bins, histnorm, histfunc, orientation, boxpoints, annotations, keys, bestfit, bestfit_colors, mean, mean_colors, categories, x, y, z, text, gridcolor, zerolinecolor, margin, labels, values, secondary_y, secondary_y_title, subplots, shape, error_x, error_y, error_type, locations, lon, lat, asFrame, asDates, asFigure, asImage, dimensions, asPlot, asUrl, online, **kwargs)\u001b[0m\n\u001b[0;32m    830\u001b[0m                                         \u001b[0mdf\u001b[0m\u001b[1;33m=\u001b[0m\u001b[0mdf\u001b[0m\u001b[1;33m[\u001b[0m\u001b[0m_y\u001b[0m \u001b[1;33m+\u001b[0m \u001b[0m_secondary_y\u001b[0m\u001b[1;33m]\u001b[0m\u001b[1;33m\u001b[0m\u001b[1;33m\u001b[0m\u001b[0m\n\u001b[0;32m    831\u001b[0m                                 \u001b[1;32melif\u001b[0m \u001b[0my\u001b[0m\u001b[1;33m:\u001b[0m\u001b[1;33m\u001b[0m\u001b[1;33m\u001b[0m\u001b[0m\n\u001b[1;32m--> 832\u001b[1;33m                                         \u001b[0mdf\u001b[0m\u001b[1;33m=\u001b[0m\u001b[0mdf\u001b[0m\u001b[1;33m[\u001b[0m\u001b[0my\u001b[0m\u001b[1;33m]\u001b[0m\u001b[1;33m\u001b[0m\u001b[1;33m\u001b[0m\u001b[0m\n\u001b[0m\u001b[0;32m    833\u001b[0m                                 \u001b[1;32mif\u001b[0m \u001b[0mkind\u001b[0m\u001b[1;33m==\u001b[0m\u001b[1;34m'area'\u001b[0m\u001b[1;33m:\u001b[0m\u001b[1;33m\u001b[0m\u001b[1;33m\u001b[0m\u001b[0m\n\u001b[0;32m    834\u001b[0m                                         \u001b[0mdf\u001b[0m\u001b[1;33m=\u001b[0m\u001b[0mdf\u001b[0m\u001b[1;33m.\u001b[0m\u001b[0mtranspose\u001b[0m\u001b[1;33m(\u001b[0m\u001b[1;33m)\u001b[0m\u001b[1;33m.\u001b[0m\u001b[0mfillna\u001b[0m\u001b[1;33m(\u001b[0m\u001b[1;36m0\u001b[0m\u001b[1;33m)\u001b[0m\u001b[1;33m.\u001b[0m\u001b[0mcumsum\u001b[0m\u001b[1;33m(\u001b[0m\u001b[1;33m)\u001b[0m\u001b[1;33m.\u001b[0m\u001b[0mtranspose\u001b[0m\u001b[1;33m(\u001b[0m\u001b[1;33m)\u001b[0m\u001b[1;33m\u001b[0m\u001b[1;33m\u001b[0m\u001b[0m\n",
      "\u001b[1;32m~\\anaconda3\\lib\\site-packages\\pandas\\core\\frame.py\u001b[0m in \u001b[0;36m__getitem__\u001b[1;34m(self, key)\u001b[0m\n\u001b[0;32m   2900\u001b[0m             \u001b[1;32mif\u001b[0m \u001b[0mself\u001b[0m\u001b[1;33m.\u001b[0m\u001b[0mcolumns\u001b[0m\u001b[1;33m.\u001b[0m\u001b[0mnlevels\u001b[0m \u001b[1;33m>\u001b[0m \u001b[1;36m1\u001b[0m\u001b[1;33m:\u001b[0m\u001b[1;33m\u001b[0m\u001b[1;33m\u001b[0m\u001b[0m\n\u001b[0;32m   2901\u001b[0m                 \u001b[1;32mreturn\u001b[0m \u001b[0mself\u001b[0m\u001b[1;33m.\u001b[0m\u001b[0m_getitem_multilevel\u001b[0m\u001b[1;33m(\u001b[0m\u001b[0mkey\u001b[0m\u001b[1;33m)\u001b[0m\u001b[1;33m\u001b[0m\u001b[1;33m\u001b[0m\u001b[0m\n\u001b[1;32m-> 2902\u001b[1;33m             \u001b[0mindexer\u001b[0m \u001b[1;33m=\u001b[0m \u001b[0mself\u001b[0m\u001b[1;33m.\u001b[0m\u001b[0mcolumns\u001b[0m\u001b[1;33m.\u001b[0m\u001b[0mget_loc\u001b[0m\u001b[1;33m(\u001b[0m\u001b[0mkey\u001b[0m\u001b[1;33m)\u001b[0m\u001b[1;33m\u001b[0m\u001b[1;33m\u001b[0m\u001b[0m\n\u001b[0m\u001b[0;32m   2903\u001b[0m             \u001b[1;32mif\u001b[0m \u001b[0mis_integer\u001b[0m\u001b[1;33m(\u001b[0m\u001b[0mindexer\u001b[0m\u001b[1;33m)\u001b[0m\u001b[1;33m:\u001b[0m\u001b[1;33m\u001b[0m\u001b[1;33m\u001b[0m\u001b[0m\n\u001b[0;32m   2904\u001b[0m                 \u001b[0mindexer\u001b[0m \u001b[1;33m=\u001b[0m \u001b[1;33m[\u001b[0m\u001b[0mindexer\u001b[0m\u001b[1;33m]\u001b[0m\u001b[1;33m\u001b[0m\u001b[1;33m\u001b[0m\u001b[0m\n",
      "\u001b[1;32m~\\anaconda3\\lib\\site-packages\\pandas\\core\\indexes\\base.py\u001b[0m in \u001b[0;36mget_loc\u001b[1;34m(self, key, method, tolerance)\u001b[0m\n\u001b[0;32m   2895\u001b[0m                 \u001b[1;32mreturn\u001b[0m \u001b[0mself\u001b[0m\u001b[1;33m.\u001b[0m\u001b[0m_engine\u001b[0m\u001b[1;33m.\u001b[0m\u001b[0mget_loc\u001b[0m\u001b[1;33m(\u001b[0m\u001b[0mcasted_key\u001b[0m\u001b[1;33m)\u001b[0m\u001b[1;33m\u001b[0m\u001b[1;33m\u001b[0m\u001b[0m\n\u001b[0;32m   2896\u001b[0m             \u001b[1;32mexcept\u001b[0m \u001b[0mKeyError\u001b[0m \u001b[1;32mas\u001b[0m \u001b[0merr\u001b[0m\u001b[1;33m:\u001b[0m\u001b[1;33m\u001b[0m\u001b[1;33m\u001b[0m\u001b[0m\n\u001b[1;32m-> 2897\u001b[1;33m                 \u001b[1;32mraise\u001b[0m \u001b[0mKeyError\u001b[0m\u001b[1;33m(\u001b[0m\u001b[0mkey\u001b[0m\u001b[1;33m)\u001b[0m \u001b[1;32mfrom\u001b[0m \u001b[0merr\u001b[0m\u001b[1;33m\u001b[0m\u001b[1;33m\u001b[0m\u001b[0m\n\u001b[0m\u001b[0;32m   2898\u001b[0m \u001b[1;33m\u001b[0m\u001b[0m\n\u001b[0;32m   2899\u001b[0m         \u001b[1;32mif\u001b[0m \u001b[0mtolerance\u001b[0m \u001b[1;32mis\u001b[0m \u001b[1;32mnot\u001b[0m \u001b[1;32mNone\u001b[0m\u001b[1;33m:\u001b[0m\u001b[1;33m\u001b[0m\u001b[1;33m\u001b[0m\u001b[0m\n",
      "\u001b[1;31mKeyError\u001b[0m: 'values'"
     ]
    }
   ],
   "source": [
    "sd_wq.iplot(kind='scatter',x='date_sample',y='values',mode = 'markers')"
   ]
  },
  {
   "cell_type": "code",
   "execution_count": 12,
   "metadata": {},
   "outputs": [
    {
     "name": "stderr",
     "output_type": "stream",
     "text": [
      "C:\\Users\\rock0\\anaconda3\\lib\\site-packages\\seaborn\\distributions.py:305: UserWarning: Dataset has 0 variance; skipping density estimate.\n",
      "  warnings.warn(msg, UserWarning)\n"
     ]
    },
    {
     "data": {
      "text/plain": [
       "<seaborn.axisgrid.PairGrid at 0x1a0354be9a0>"
      ]
     },
     "execution_count": 12,
     "metadata": {},
     "output_type": "execute_result"
    },
    {
     "data": {
      "image/png": "[encoded data removed]",
      "text/plain": [
       "<Figure size 468.375x360 with 6 Axes>"
      ]
     },
     "metadata": {
      "needs_background": "light"
     },
     "output_type": "display_data"
    }
   ],
   "source": [
    "sns.pairplot(sd_wq[['depth_m','date_sample','parameter','value']],hue='parameter')"
   ]
  },
  {
   "cell_type": "code",
   "execution_count": 22,
   "metadata": {},
   "outputs": [
    {
     "name": "stdout",
     "output_type": "stream",
     "text": [
      "<class 'pandas.core.frame.DataFrame'>\n",
      "RangeIndex: 338978 entries, 0 to 338977\n",
      "Data columns (total 4 columns):\n",
      " #   Column       Non-Null Count   Dtype  \n",
      "---  ------       --------------   -----  \n",
      " 0   depth_m      309084 non-null  float64\n",
      " 1   date_sample  338978 non-null  object \n",
      " 2   parameter    338978 non-null  object \n",
      " 3   value        338308 non-null  float64\n",
      "dtypes: float64(2), object(2)\n",
      "memory usage: 10.3+ MB\n"
     ]
    }
   ],
   "source": [
    "sd_wq[['depth_m','date_sample','parameter','value']].info()"
   ]
  },
  {
   "cell_type": "code",
   "execution_count": 19,
   "metadata": {},
   "outputs": [
    {
     "data": {
      "text/html": [
       "<div>\n",
       "<style scoped>\n",
       "    .dataframe tbody tr th:only-of-type {\n",
       "        vertical-align: middle;\n",
       "    }\n",
       "\n",
       "    .dataframe tbody tr th {\n",
       "        vertical-align: top;\n",
       "    }\n",
       "\n",
       "    .dataframe thead th {\n",
       "        text-align: right;\n",
       "    }\n",
       "</style>\n",
       "<table border=\"1\" class=\"dataframe\">\n",
       "  <thead>\n",
       "    <tr style=\"text-align: right;\">\n",
       "      <th></th>\n",
       "      <th>sample</th>\n",
       "      <th>depth_m</th>\n",
       "      <th>value</th>\n",
       "    </tr>\n",
       "  </thead>\n",
       "  <tbody>\n",
       "    <tr>\n",
       "      <th>sample</th>\n",
       "      <td>1.000000</td>\n",
       "      <td>-0.017187</td>\n",
       "      <td>0.012007</td>\n",
       "    </tr>\n",
       "    <tr>\n",
       "      <th>depth_m</th>\n",
       "      <td>-0.017187</td>\n",
       "      <td>1.000000</td>\n",
       "      <td>-0.011386</td>\n",
       "    </tr>\n",
       "    <tr>\n",
       "      <th>value</th>\n",
       "      <td>0.012007</td>\n",
       "      <td>-0.011386</td>\n",
       "      <td>1.000000</td>\n",
       "    </tr>\n",
       "  </tbody>\n",
       "</table>\n",
       "</div>"
      ],
      "text/plain": [
       "           sample   depth_m     value\n",
       "sample   1.000000 -0.017187  0.012007\n",
       "depth_m -0.017187  1.000000 -0.011386\n",
       "value    0.012007 -0.011386  1.000000"
      ]
     },
     "execution_count": 19,
     "metadata": {},
     "output_type": "execute_result"
    }
   ],
   "source": [
    "sd_wq.corr()"
   ]
  },
  {
   "cell_type": "code",
   "execution_count": 26,
   "metadata": {},
   "outputs": [
    {
     "name": "stdout",
     "output_type": "stream",
     "text": [
      "['ENTERO' 'FECAL' 'TOTAL' 'CHLOROPHYLL' 'DENSITY' 'DO' 'PH' 'SALINITY'\n",
      " 'TEMP' 'XMS' 'OG' 'SUSO']\n",
      "12\n"
     ]
    }
   ],
   "source": [
    "print(sd_wq['parameter'].unique())\n",
    "print(sd_wq['parameter'].nunique())"
   ]
  },
  {
   "cell_type": "code",
   "execution_count": 15,
   "metadata": {},
   "outputs": [
    {
     "data": {
      "text/plain": [
       "<AxesSubplot:xlabel='parameter', ylabel='value'>"
      ]
     },
     "execution_count": 15,
     "metadata": {},
     "output_type": "execute_result"
    },
    {
     "data": {
      "image/png": "[encoded data removed]",
      "text/plain": [
       "<Figure size 432x288 with 1 Axes>"
      ]
     },
     "metadata": {
      "needs_background": "light"
     },
     "output_type": "display_data"
    }
   ],
   "source": [
    "sns.barplot(x='parameter',y='value',data=sd_wq,estimator=np.std)"
   ]
  },
  {
   "cell_type": "code",
   "execution_count": 16,
   "metadata": {},
   "outputs": [
    {
     "data": {
      "text/plain": [
       "<AxesSubplot:xlabel='parameter', ylabel='value'>"
      ]
     },
     "execution_count": 16,
     "metadata": {},
     "output_type": "execute_result"
    },
    {
     "data": {
      "image/png": "[encoded data removed]",
      "text/plain": [
       "<Figure size 432x288 with 1 Axes>"
      ]
     },
     "metadata": {
      "needs_background": "light"
     },
     "output_type": "display_data"
    }
   ],
   "source": [
    "sns.boxplot(x='parameter',y='value',data=sd_wq)"
   ]
  },
  {
   "cell_type": "code",
   "execution_count": 18,
   "metadata": {},
   "outputs": [
    {
     "data": {
      "text/plain": [
       "<AxesSubplot:xlabel='date_sample', ylabel='value'>"
      ]
     },
     "execution_count": 18,
     "metadata": {},
     "output_type": "execute_result"
    },
    {
     "data": {
      "image/png": "[encoded data removed]",
      "text/plain": [
       "<Figure size 432x288 with 1 Axes>"
      ]
     },
     "metadata": {
      "needs_background": "light"
     },
     "output_type": "display_data"
    }
   ],
   "source": [
    "sns.boxplot(x='date_sample',y='value',data=sd_wq, hue='parameter')"
   ]
  },
  {
   "cell_type": "code",
   "execution_count": 3,
   "metadata": {},
   "outputs": [
    {
     "data": {
      "text/html": [
       "<div>\n",
       "<style scoped>\n",
       "    .dataframe tbody tr th:only-of-type {\n",
       "        vertical-align: middle;\n",
       "    }\n",
       "\n",
       "    .dataframe tbody tr th {\n",
       "        vertical-align: top;\n",
       "    }\n",
       "\n",
       "    .dataframe thead th {\n",
       "        text-align: right;\n",
       "    }\n",
       "</style>\n",
       "<table border=\"1\" class=\"dataframe\">\n",
       "  <thead>\n",
       "    <tr style=\"text-align: right;\">\n",
       "      <th></th>\n",
       "      <th>sample</th>\n",
       "      <th>station</th>\n",
       "      <th>depth_m</th>\n",
       "      <th>date_sample</th>\n",
       "      <th>time</th>\n",
       "      <th>project</th>\n",
       "      <th>parameter</th>\n",
       "      <th>qualifier</th>\n",
       "      <th>value</th>\n",
       "      <th>units</th>\n",
       "    </tr>\n",
       "  </thead>\n",
       "  <tbody>\n",
       "    <tr>\n",
       "      <th>0</th>\n",
       "      <td>101111769</td>\n",
       "      <td>I25</td>\n",
       "      <td>2.0</td>\n",
       "      <td>2011-01-01</td>\n",
       "      <td>11:54:00 PST</td>\n",
       "      <td>SBOO</td>\n",
       "      <td>ENTERO</td>\n",
       "      <td>e</td>\n",
       "      <td>24.0</td>\n",
       "      <td>CFU/100 mL</td>\n",
       "    </tr>\n",
       "    <tr>\n",
       "      <th>1</th>\n",
       "      <td>101111770</td>\n",
       "      <td>I25</td>\n",
       "      <td>6.0</td>\n",
       "      <td>2011-01-01</td>\n",
       "      <td>11:54:00 PST</td>\n",
       "      <td>SBOO</td>\n",
       "      <td>ENTERO</td>\n",
       "      <td>NaN</td>\n",
       "      <td>110.0</td>\n",
       "      <td>CFU/100 mL</td>\n",
       "    </tr>\n",
       "    <tr>\n",
       "      <th>2</th>\n",
       "      <td>101111771</td>\n",
       "      <td>I25</td>\n",
       "      <td>9.0</td>\n",
       "      <td>2011-01-01</td>\n",
       "      <td>11:54:00 PST</td>\n",
       "      <td>SBOO</td>\n",
       "      <td>ENTERO</td>\n",
       "      <td>NaN</td>\n",
       "      <td>100.0</td>\n",
       "      <td>CFU/100 mL</td>\n",
       "    </tr>\n",
       "    <tr>\n",
       "      <th>3</th>\n",
       "      <td>101111772</td>\n",
       "      <td>I26</td>\n",
       "      <td>6.0</td>\n",
       "      <td>2011-01-01</td>\n",
       "      <td>12:04:00 PST</td>\n",
       "      <td>SBOO</td>\n",
       "      <td>ENTERO</td>\n",
       "      <td>NaN</td>\n",
       "      <td>94.0</td>\n",
       "      <td>CFU/100 mL</td>\n",
       "    </tr>\n",
       "    <tr>\n",
       "      <th>4</th>\n",
       "      <td>101111773</td>\n",
       "      <td>I26</td>\n",
       "      <td>9.0</td>\n",
       "      <td>2011-01-01</td>\n",
       "      <td>12:04:00 PST</td>\n",
       "      <td>SBOO</td>\n",
       "      <td>ENTERO</td>\n",
       "      <td>NaN</td>\n",
       "      <td>400.0</td>\n",
       "      <td>CFU/100 mL</td>\n",
       "    </tr>\n",
       "  </tbody>\n",
       "</table>\n",
       "</div>"
      ],
      "text/plain": [
       "      sample station  depth_m date_sample          time project parameter  \\\n",
       "0  101111769     I25      2.0  2011-01-01  11:54:00 PST    SBOO    ENTERO   \n",
       "1  101111770     I25      6.0  2011-01-01  11:54:00 PST    SBOO    ENTERO   \n",
       "2  101111771     I25      9.0  2011-01-01  11:54:00 PST    SBOO    ENTERO   \n",
       "3  101111772     I26      6.0  2011-01-01  12:04:00 PST    SBOO    ENTERO   \n",
       "4  101111773     I26      9.0  2011-01-01  12:04:00 PST    SBOO    ENTERO   \n",
       "\n",
       "  qualifier  value       units  \n",
       "0         e   24.0  CFU/100 mL  \n",
       "1       NaN  110.0  CFU/100 mL  \n",
       "2       NaN  100.0  CFU/100 mL  \n",
       "3       NaN   94.0  CFU/100 mL  \n",
       "4       NaN  400.0  CFU/100 mL  "
      ]
     },
     "execution_count": 3,
     "metadata": {},
     "output_type": "execute_result"
    }
   ],
   "source": [
    "sd_wq.head()"
   ]
  },
  {
   "cell_type": "code",
   "execution_count": 4,
   "metadata": {},
   "outputs": [
    {
     "data": {
      "text/html": [
       "<div>\n",
       "<style scoped>\n",
       "    .dataframe tbody tr th:only-of-type {\n",
       "        vertical-align: middle;\n",
       "    }\n",
       "\n",
       "    .dataframe tbody tr th {\n",
       "        vertical-align: top;\n",
       "    }\n",
       "\n",
       "    .dataframe thead th {\n",
       "        text-align: right;\n",
       "    }\n",
       "</style>\n",
       "<table border=\"1\" class=\"dataframe\">\n",
       "  <thead>\n",
       "    <tr style=\"text-align: right;\">\n",
       "      <th></th>\n",
       "      <th>sample</th>\n",
       "      <th>station</th>\n",
       "      <th>depth_m</th>\n",
       "      <th>date_sample</th>\n",
       "      <th>time</th>\n",
       "      <th>project</th>\n",
       "      <th>parameter</th>\n",
       "      <th>qualifier</th>\n",
       "      <th>value</th>\n",
       "      <th>units</th>\n",
       "    </tr>\n",
       "  </thead>\n",
       "  <tbody>\n",
       "    <tr>\n",
       "      <th>338973</th>\n",
       "      <td>1912308431</td>\n",
       "      <td>S8</td>\n",
       "      <td>NaN</td>\n",
       "      <td>2019-12-30</td>\n",
       "      <td>7:55:00 PST</td>\n",
       "      <td>SBOO</td>\n",
       "      <td>FECAL</td>\n",
       "      <td>&lt;</td>\n",
       "      <td>2.0</td>\n",
       "      <td>CFU/100 mL</td>\n",
       "    </tr>\n",
       "    <tr>\n",
       "      <th>338974</th>\n",
       "      <td>1912308431</td>\n",
       "      <td>S8</td>\n",
       "      <td>NaN</td>\n",
       "      <td>2019-12-30</td>\n",
       "      <td>7:55:00 PST</td>\n",
       "      <td>SBOO</td>\n",
       "      <td>TOTAL</td>\n",
       "      <td>&lt;</td>\n",
       "      <td>20.0</td>\n",
       "      <td>CFU/100 mL</td>\n",
       "    </tr>\n",
       "    <tr>\n",
       "      <th>338975</th>\n",
       "      <td>1912308430</td>\n",
       "      <td>S9</td>\n",
       "      <td>NaN</td>\n",
       "      <td>2019-12-30</td>\n",
       "      <td>7:32:00 PST</td>\n",
       "      <td>SBOO</td>\n",
       "      <td>ENTERO</td>\n",
       "      <td>&lt;</td>\n",
       "      <td>2.0</td>\n",
       "      <td>CFU/100 mL</td>\n",
       "    </tr>\n",
       "    <tr>\n",
       "      <th>338976</th>\n",
       "      <td>1912308430</td>\n",
       "      <td>S9</td>\n",
       "      <td>NaN</td>\n",
       "      <td>2019-12-30</td>\n",
       "      <td>7:32:00 PST</td>\n",
       "      <td>SBOO</td>\n",
       "      <td>FECAL</td>\n",
       "      <td>&lt;</td>\n",
       "      <td>2.0</td>\n",
       "      <td>CFU/100 mL</td>\n",
       "    </tr>\n",
       "    <tr>\n",
       "      <th>338977</th>\n",
       "      <td>1912308430</td>\n",
       "      <td>S9</td>\n",
       "      <td>NaN</td>\n",
       "      <td>2019-12-30</td>\n",
       "      <td>7:32:00 PST</td>\n",
       "      <td>SBOO</td>\n",
       "      <td>TOTAL</td>\n",
       "      <td>e</td>\n",
       "      <td>20.0</td>\n",
       "      <td>CFU/100 mL</td>\n",
       "    </tr>\n",
       "  </tbody>\n",
       "</table>\n",
       "</div>"
      ],
      "text/plain": [
       "            sample station  depth_m date_sample         time project  \\\n",
       "338973  1912308431      S8      NaN  2019-12-30  7:55:00 PST    SBOO   \n",
       "338974  1912308431      S8      NaN  2019-12-30  7:55:00 PST    SBOO   \n",
       "338975  1912308430      S9      NaN  2019-12-30  7:32:00 PST    SBOO   \n",
       "338976  1912308430      S9      NaN  2019-12-30  7:32:00 PST    SBOO   \n",
       "338977  1912308430      S9      NaN  2019-12-30  7:32:00 PST    SBOO   \n",
       "\n",
       "       parameter qualifier  value       units  \n",
       "338973     FECAL         <    2.0  CFU/100 mL  \n",
       "338974     TOTAL         <   20.0  CFU/100 mL  \n",
       "338975    ENTERO         <    2.0  CFU/100 mL  \n",
       "338976     FECAL         <    2.0  CFU/100 mL  \n",
       "338977     TOTAL         e   20.0  CFU/100 mL  "
      ]
     },
     "execution_count": 4,
     "metadata": {},
     "output_type": "execute_result"
    }
   ],
   "source": [
    "sd_wq.tail()"
   ]
  },
  {
   "cell_type": "code",
   "execution_count": 5,
   "metadata": {},
   "outputs": [
    {
     "name": "stdout",
     "output_type": "stream",
     "text": [
      "<class 'pandas.core.frame.DataFrame'>\n",
      "RangeIndex: 338978 entries, 0 to 338977\n",
      "Data columns (total 10 columns):\n",
      " #   Column       Non-Null Count   Dtype  \n",
      "---  ------       --------------   -----  \n",
      " 0   sample       338978 non-null  int64  \n",
      " 1   station      338978 non-null  object \n",
      " 2   depth_m      309084 non-null  float64\n",
      " 3   date_sample  338978 non-null  object \n",
      " 4   time         323266 non-null  object \n",
      " 5   project      338978 non-null  object \n",
      " 6   parameter    338978 non-null  object \n",
      " 7   qualifier    107545 non-null  object \n",
      " 8   value        338308 non-null  float64\n",
      " 9   units        338978 non-null  object \n",
      "dtypes: float64(2), int64(1), object(7)\n",
      "memory usage: 25.9+ MB\n"
     ]
    }
   ],
   "source": [
    "sd_wq.info()"
   ]
  },
  {
   "cell_type": "code",
   "execution_count": 6,
   "metadata": {},
   "outputs": [],
   "source": [
    "sd_wq_dic = pd.read_csv('water_quality_dictionary_datasd.csv')"
   ]
  },
  {
   "cell_type": "code",
   "execution_count": 7,
   "metadata": {},
   "outputs": [
    {
     "data": {
      "text/html": [
       "<div>\n",
       "<style scoped>\n",
       "    .dataframe tbody tr th:only-of-type {\n",
       "        vertical-align: middle;\n",
       "    }\n",
       "\n",
       "    .dataframe tbody tr th {\n",
       "        vertical-align: top;\n",
       "    }\n",
       "\n",
       "    .dataframe thead th {\n",
       "        text-align: right;\n",
       "    }\n",
       "</style>\n",
       "<table border=\"1\" class=\"dataframe\">\n",
       "  <thead>\n",
       "    <tr style=\"text-align: right;\">\n",
       "      <th></th>\n",
       "      <th>field</th>\n",
       "      <th>description</th>\n",
       "      <th>possible_values</th>\n",
       "    </tr>\n",
       "  </thead>\n",
       "  <tbody>\n",
       "    <tr>\n",
       "      <th>0</th>\n",
       "      <td>sample</td>\n",
       "      <td>Unique sample ID</td>\n",
       "      <td>NaN</td>\n",
       "    </tr>\n",
       "    <tr>\n",
       "      <th>1</th>\n",
       "      <td>station</td>\n",
       "      <td>Unique location ID where sample was collected....</td>\n",
       "      <td>NaN</td>\n",
       "    </tr>\n",
       "    <tr>\n",
       "      <th>2</th>\n",
       "      <td>depth_m</td>\n",
       "      <td>Depth in meters</td>\n",
       "      <td>NaN</td>\n",
       "    </tr>\n",
       "    <tr>\n",
       "      <th>3</th>\n",
       "      <td>date_sample</td>\n",
       "      <td>Date sample was collected</td>\n",
       "      <td>NaN</td>\n",
       "    </tr>\n",
       "    <tr>\n",
       "      <th>4</th>\n",
       "      <td>time</td>\n",
       "      <td>Time sample was collected</td>\n",
       "      <td>NaN</td>\n",
       "    </tr>\n",
       "  </tbody>\n",
       "</table>\n",
       "</div>"
      ],
      "text/plain": [
       "         field                                        description  \\\n",
       "0       sample                                   Unique sample ID   \n",
       "1      station  Unique location ID where sample was collected....   \n",
       "2      depth_m                                    Depth in meters   \n",
       "3  date_sample                          Date sample was collected   \n",
       "4         time                          Time sample was collected   \n",
       "\n",
       "  possible_values  \n",
       "0             NaN  \n",
       "1             NaN  \n",
       "2             NaN  \n",
       "3             NaN  \n",
       "4             NaN  "
      ]
     },
     "execution_count": 7,
     "metadata": {},
     "output_type": "execute_result"
    }
   ],
   "source": [
    "sd_wq_dic.head()"
   ]
  },
  {
   "cell_type": "code",
   "execution_count": 8,
   "metadata": {},
   "outputs": [
    {
     "name": "stdout",
     "output_type": "stream",
     "text": [
      "<class 'pandas.core.frame.DataFrame'>\n",
      "RangeIndex: 10 entries, 0 to 9\n",
      "Data columns (total 3 columns):\n",
      " #   Column           Non-Null Count  Dtype \n",
      "---  ------           --------------  ----- \n",
      " 0   field            10 non-null     object\n",
      " 1   description      10 non-null     object\n",
      " 2   possible_values  4 non-null      object\n",
      "dtypes: object(3)\n",
      "memory usage: 368.0+ bytes\n"
     ]
    }
   ],
   "source": [
    "sd_wq_dic.info()"
   ]
  },
  {
   "cell_type": "code",
   "execution_count": 9,
   "metadata": {},
   "outputs": [
    {
     "data": {
      "text/plain": [
       "0          24.0\n",
       "1         110.0\n",
       "2         100.0\n",
       "3          94.0\n",
       "4         400.0\n",
       "          ...  \n",
       "338973      2.0\n",
       "338974     20.0\n",
       "338975      2.0\n",
       "338976      2.0\n",
       "338977     20.0\n",
       "Name: value, Length: 338978, dtype: float64"
      ]
     },
     "execution_count": 9,
     "metadata": {},
     "output_type": "execute_result"
    }
   ],
   "source": [
    "#What were the highest values for each parameter\n",
    "\n",
    "sd_wq['value']"
   ]
  },
  {
   "cell_type": "code",
   "execution_count": 19,
   "metadata": {},
   "outputs": [],
   "source": [
    "#sd_wq[sd_wq['sample'] == sd_wq.groupby('parameter').max('value')['sample']]"
   ]
  },
  {
   "cell_type": "code",
   "execution_count": null,
   "metadata": {},
   "outputs": [],
   "source": [
    "sd_wq.groupby('parameter').describe(include = ['value'])"
   ]
  },
  {
   "cell_type": "code",
   "execution_count": 16,
   "metadata": {},
   "outputs": [
    {
     "data": {
      "text/plain": [
       "<matplotlib.colors.ListedColormap at 0x1e2c1cb3b20>"
      ]
     },
     "execution_count": 16,
     "metadata": {},
     "output_type": "execute_result"
    },
    {
     "data": {
      "text/plain": [
       "<Figure size 1080x504 with 0 Axes>"
      ]
     },
     "metadata": {},
     "output_type": "display_data"
    }
   ],
   "source": [
    "plt.figure(figsize=(15, 7))\n",
    "\n",
    "sns.color_palette(\"mako\", as_cmap=True)"
   ]
  },
  {
   "cell_type": "code",
   "execution_count": 26,
   "metadata": {},
   "outputs": [],
   "source": [
    "sd_wq_fecal = sd_wq[sd_wq['parameter'] == 'FECAL']"
   ]
  },
  {
   "cell_type": "code",
   "execution_count": 27,
   "metadata": {},
   "outputs": [
    {
     "data": {
      "text/html": [
       "<div>\n",
       "<style scoped>\n",
       "    .dataframe tbody tr th:only-of-type {\n",
       "        vertical-align: middle;\n",
       "    }\n",
       "\n",
       "    .dataframe tbody tr th {\n",
       "        vertical-align: top;\n",
       "    }\n",
       "\n",
       "    .dataframe thead th {\n",
       "        text-align: right;\n",
       "    }\n",
       "</style>\n",
       "<table border=\"1\" class=\"dataframe\">\n",
       "  <thead>\n",
       "    <tr style=\"text-align: right;\">\n",
       "      <th></th>\n",
       "      <th>sample</th>\n",
       "      <th>station</th>\n",
       "      <th>depth_m</th>\n",
       "      <th>date_sample</th>\n",
       "      <th>time</th>\n",
       "      <th>project</th>\n",
       "      <th>parameter</th>\n",
       "      <th>qualifier</th>\n",
       "      <th>value</th>\n",
       "      <th>units</th>\n",
       "    </tr>\n",
       "  </thead>\n",
       "  <tbody>\n",
       "    <tr>\n",
       "      <th>6</th>\n",
       "      <td>101111760</td>\n",
       "      <td>S10</td>\n",
       "      <td>NaN</td>\n",
       "      <td>2011-01-01</td>\n",
       "      <td>12:09:00 PST</td>\n",
       "      <td>SBOO</td>\n",
       "      <td>FECAL</td>\n",
       "      <td>&gt;</td>\n",
       "      <td>12000.0</td>\n",
       "      <td>CFU/100 mL</td>\n",
       "    </tr>\n",
       "    <tr>\n",
       "      <th>10</th>\n",
       "      <td>101111762</td>\n",
       "      <td>S4</td>\n",
       "      <td>NaN</td>\n",
       "      <td>2011-01-01</td>\n",
       "      <td>11:48:00 PST</td>\n",
       "      <td>SBOO</td>\n",
       "      <td>FECAL</td>\n",
       "      <td>NaN</td>\n",
       "      <td>400.0</td>\n",
       "      <td>CFU/100 mL</td>\n",
       "    </tr>\n",
       "    <tr>\n",
       "      <th>14</th>\n",
       "      <td>103111890</td>\n",
       "      <td>D10</td>\n",
       "      <td>NaN</td>\n",
       "      <td>2011-01-03</td>\n",
       "      <td>9:26:00 PST</td>\n",
       "      <td>PLOO</td>\n",
       "      <td>FECAL</td>\n",
       "      <td>e</td>\n",
       "      <td>32.0</td>\n",
       "      <td>CFU/100 mL</td>\n",
       "    </tr>\n",
       "    <tr>\n",
       "      <th>17</th>\n",
       "      <td>103111891</td>\n",
       "      <td>D11</td>\n",
       "      <td>NaN</td>\n",
       "      <td>2011-01-03</td>\n",
       "      <td>9:15:00 PST</td>\n",
       "      <td>PLOO</td>\n",
       "      <td>FECAL</td>\n",
       "      <td>e</td>\n",
       "      <td>8.0</td>\n",
       "      <td>CFU/100 mL</td>\n",
       "    </tr>\n",
       "    <tr>\n",
       "      <th>20</th>\n",
       "      <td>103111892</td>\n",
       "      <td>D12</td>\n",
       "      <td>NaN</td>\n",
       "      <td>2011-01-03</td>\n",
       "      <td>8:43:00 PST</td>\n",
       "      <td>PLOO</td>\n",
       "      <td>FECAL</td>\n",
       "      <td>e</td>\n",
       "      <td>6.0</td>\n",
       "      <td>CFU/100 mL</td>\n",
       "    </tr>\n",
       "    <tr>\n",
       "      <th>...</th>\n",
       "      <td>...</td>\n",
       "      <td>...</td>\n",
       "      <td>...</td>\n",
       "      <td>...</td>\n",
       "      <td>...</td>\n",
       "      <td>...</td>\n",
       "      <td>...</td>\n",
       "      <td>...</td>\n",
       "      <td>...</td>\n",
       "      <td>...</td>\n",
       "    </tr>\n",
       "    <tr>\n",
       "      <th>338964</th>\n",
       "      <td>1912308436</td>\n",
       "      <td>S4</td>\n",
       "      <td>NaN</td>\n",
       "      <td>2019-12-30</td>\n",
       "      <td>10:43:00 PST</td>\n",
       "      <td>SBOO</td>\n",
       "      <td>FECAL</td>\n",
       "      <td>NaN</td>\n",
       "      <td>68.0</td>\n",
       "      <td>CFU/100 mL</td>\n",
       "    </tr>\n",
       "    <tr>\n",
       "      <th>338967</th>\n",
       "      <td>1912308433</td>\n",
       "      <td>S5</td>\n",
       "      <td>NaN</td>\n",
       "      <td>2019-12-30</td>\n",
       "      <td>8:43:00 PST</td>\n",
       "      <td>SBOO</td>\n",
       "      <td>FECAL</td>\n",
       "      <td>NaN</td>\n",
       "      <td>1200.0</td>\n",
       "      <td>CFU/100 mL</td>\n",
       "    </tr>\n",
       "    <tr>\n",
       "      <th>338970</th>\n",
       "      <td>1912308435</td>\n",
       "      <td>S6</td>\n",
       "      <td>NaN</td>\n",
       "      <td>2019-12-30</td>\n",
       "      <td>9:25:00 PST</td>\n",
       "      <td>SBOO</td>\n",
       "      <td>FECAL</td>\n",
       "      <td>e</td>\n",
       "      <td>60.0</td>\n",
       "      <td>CFU/100 mL</td>\n",
       "    </tr>\n",
       "    <tr>\n",
       "      <th>338973</th>\n",
       "      <td>1912308431</td>\n",
       "      <td>S8</td>\n",
       "      <td>NaN</td>\n",
       "      <td>2019-12-30</td>\n",
       "      <td>7:55:00 PST</td>\n",
       "      <td>SBOO</td>\n",
       "      <td>FECAL</td>\n",
       "      <td>&lt;</td>\n",
       "      <td>2.0</td>\n",
       "      <td>CFU/100 mL</td>\n",
       "    </tr>\n",
       "    <tr>\n",
       "      <th>338976</th>\n",
       "      <td>1912308430</td>\n",
       "      <td>S9</td>\n",
       "      <td>NaN</td>\n",
       "      <td>2019-12-30</td>\n",
       "      <td>7:32:00 PST</td>\n",
       "      <td>SBOO</td>\n",
       "      <td>FECAL</td>\n",
       "      <td>&lt;</td>\n",
       "      <td>2.0</td>\n",
       "      <td>CFU/100 mL</td>\n",
       "    </tr>\n",
       "  </tbody>\n",
       "</table>\n",
       "<p>34681 rows × 10 columns</p>\n",
       "</div>"
      ],
      "text/plain": [
       "            sample station  depth_m date_sample          time project  \\\n",
       "6        101111760     S10      NaN  2011-01-01  12:09:00 PST    SBOO   \n",
       "10       101111762      S4      NaN  2011-01-01  11:48:00 PST    SBOO   \n",
       "14       103111890     D10      NaN  2011-01-03   9:26:00 PST    PLOO   \n",
       "17       103111891     D11      NaN  2011-01-03   9:15:00 PST    PLOO   \n",
       "20       103111892     D12      NaN  2011-01-03   8:43:00 PST    PLOO   \n",
       "...            ...     ...      ...         ...           ...     ...   \n",
       "338964  1912308436      S4      NaN  2019-12-30  10:43:00 PST    SBOO   \n",
       "338967  1912308433      S5      NaN  2019-12-30   8:43:00 PST    SBOO   \n",
       "338970  1912308435      S6      NaN  2019-12-30   9:25:00 PST    SBOO   \n",
       "338973  1912308431      S8      NaN  2019-12-30   7:55:00 PST    SBOO   \n",
       "338976  1912308430      S9      NaN  2019-12-30   7:32:00 PST    SBOO   \n",
       "\n",
       "       parameter qualifier    value       units  \n",
       "6          FECAL         >  12000.0  CFU/100 mL  \n",
       "10         FECAL       NaN    400.0  CFU/100 mL  \n",
       "14         FECAL         e     32.0  CFU/100 mL  \n",
       "17         FECAL         e      8.0  CFU/100 mL  \n",
       "20         FECAL         e      6.0  CFU/100 mL  \n",
       "...          ...       ...      ...         ...  \n",
       "338964     FECAL       NaN     68.0  CFU/100 mL  \n",
       "338967     FECAL       NaN   1200.0  CFU/100 mL  \n",
       "338970     FECAL         e     60.0  CFU/100 mL  \n",
       "338973     FECAL         <      2.0  CFU/100 mL  \n",
       "338976     FECAL         <      2.0  CFU/100 mL  \n",
       "\n",
       "[34681 rows x 10 columns]"
      ]
     },
     "execution_count": 27,
     "metadata": {},
     "output_type": "execute_result"
    }
   ],
   "source": [
    "sd_wq_fecal"
   ]
  },
  {
   "cell_type": "code",
   "execution_count": 28,
   "metadata": {},
   "outputs": [
    {
     "data": {
      "image/png": "[encoded data removed]",
      "text/plain": [
       "<Figure size 432x288 with 1 Axes>"
      ]
     },
     "metadata": {
      "needs_background": "light"
     },
     "output_type": "display_data"
    }
   ],
   "source": [
    "sd_wq_chart = sns.lineplot(\n",
    "    x=\"date_sample\",\n",
    "    y=\"value\",\n",
    "    hue='value',\n",
    "    data=sd_wq_fecal\n",
    ").set_title('SD Fecal Parameter')\n",
    "plt.show()"
   ]
  },
  {
   "cell_type": "code",
   "execution_count": null,
   "metadata": {},
   "outputs": [],
   "source": [
    "print('hello')"
   ]
  },
  {
   "cell_type": "code",
   "execution_count": null,
   "metadata": {},
   "outputs": [],
   "source": []
  }
 ],
 "metadata": {
  "kernelspec": {
   "display_name": "Python 3",
   "language": "python",
   "name": "python3"
  },
  "language_info": {
   "codemirror_mode": {
    "name": "ipython",
    "version": 3
   },
   "file_extension": ".py",
   "mimetype": "text/x-python",
   "name": "python",
   "nbconvert_exporter": "python",
   "pygments_lexer": "ipython3",
   "version": "3.8.5"
  }
 },
 "nbformat": 4,
 "nbformat_minor": 4
}
